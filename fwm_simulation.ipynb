{
 "cells": [
  {
   "cell_type": "markdown",
   "metadata": {},
   "source": [
    "# Four wave mixing simulation"
   ]
  },
  {
   "cell_type": "code",
   "execution_count": 1,
   "metadata": {},
   "outputs": [],
   "source": [
    "import numpy as np"
   ]
  },
  {
   "cell_type": "markdown",
   "metadata": {},
   "source": [
    "# Conservation of energy\n",
    "$$\n",
    "2 \\omega_{p} = \\omega_{s} + \\omega_{i}\n",
    "$$\n",
    "\n",
    "$\\omega_{s}$ is the signal frequency which corresponds to the shorter wavelength photon produced in four wave mixing.  \n",
    "$\\omega_{i}$ is the idler frequency which corresponds to the longer wavelength photon produced in four wave mixing process.  \n",
    "$\\omega_{p}$ is the pump frequency"
   ]
  },
  {
   "cell_type": "markdown",
   "metadata": {},
   "source": [
    "# Conservation of momentum\n",
    "$$\n",
    "2\\beta(\\omega_{p}) = \\beta(\\omega_{s}) + \\beta(\\omega_{i}) + 2\\gamma P\n",
    "$$\n",
    "Subtracting all onto one side gives\n",
    "$$\n",
    "2\\beta(\\omega_{p}) - \\beta(\\omega_{s}) - \\beta(\\omega_{i}) - 2\\gamma P = 0\n",
    "$$\n",
    "\n",
    "$\\gamma$ is approximately $0.2Wm^{-1}$  and $P$ is approximately equal to $100W$"
   ]
  },
  {
   "cell_type": "markdown",
   "metadata": {},
   "source": [
    "Mid IR wavelengths range roughly from 2500–25000nm  \n",
    "This corresponds to frequencies of 1.2*10^13 to 1.2*10^14  \n",
    "Which corresponds to angular frequencies of 2 $\\pi$ * these frequencies"
   ]
  },
  {
   "cell_type": "markdown",
   "metadata": {},
   "source": [
    "Will be using 1 micron to 1.6 microns for pump wavelength, with 100 points for spacing.  \n",
    "Signal needs a slightly larger range because the solution we are expecting is steeper in the shorter wavelength range.  \n",
    "100 by 100 matrices should work fine. Anything bigger than 200 by 200 will be too slow."
   ]
  },
  {
   "cell_type": "code",
   "execution_count": 2,
   "metadata": {},
   "outputs": [],
   "source": [
    "#import RefractiveIndexClass"
   ]
  },
  {
   "cell_type": "code",
   "execution_count": 3,
   "metadata": {},
   "outputs": [],
   "source": [
    "import sys\n",
    "# module_path = r\"C:\\Users\\met50\\OneDrive - University of Bath\\Uni\\Final Year\\Project\\FYP_Github_V2\\Modules\\Refractive_Indices\"\n",
    "#module_path = \"C:\\\\Users\\\\molly\\\\OneDrive - University of Bath\\\\Uni\\\\Final Year\\\\Project\\\\FYP_Github_V2\\\\Modules\\\\Refractive_Indices\"\n",
    "sys.path.append(\"../Modules/Refractive_Indices/\")\n",
    "\n",
    "# Now you can import the class from the module\n",
    "from RefractiveIndexClass import RefractiveIndex"
   ]
  },
  {
   "cell_type": "code",
   "execution_count": 4,
   "metadata": {},
   "outputs": [],
   "source": [
    "# Function to convert wavelength to angular frequency\n",
    "def lambda_to_ang_freq(wavelength_matrix):\n",
    "    #return (2*np.pi*3e8*RefractiveIndexClass.RefractiveIndex.n_fs(wavelength_matrix*1.0e-9,parameter=\"wavelength\")) / wavelength_matrix\n",
    "    return (2*np.pi*3e8) / wavelength_matrix"
   ]
  },
  {
   "cell_type": "code",
   "execution_count": 5,
   "metadata": {},
   "outputs": [
    {
     "data": {
      "text/plain": [
       "array([[7.0000e-07, 7.0090e-07, 7.0180e-07, ..., 1.5973e-06, 1.5982e-06,\n",
       "        1.5991e-06],\n",
       "       [7.0000e-07, 7.0090e-07, 7.0180e-07, ..., 1.5973e-06, 1.5982e-06,\n",
       "        1.5991e-06],\n",
       "       [7.0000e-07, 7.0090e-07, 7.0180e-07, ..., 1.5973e-06, 1.5982e-06,\n",
       "        1.5991e-06],\n",
       "       ...,\n",
       "       [7.0000e-07, 7.0090e-07, 7.0180e-07, ..., 1.5973e-06, 1.5982e-06,\n",
       "        1.5991e-06],\n",
       "       [7.0000e-07, 7.0090e-07, 7.0180e-07, ..., 1.5973e-06, 1.5982e-06,\n",
       "        1.5991e-06],\n",
       "       [7.0000e-07, 7.0090e-07, 7.0180e-07, ..., 1.5973e-06, 1.5982e-06,\n",
       "        1.5991e-06]])"
      ]
     },
     "execution_count": 5,
     "metadata": {},
     "output_type": "execute_result"
    }
   ],
   "source": [
    "# PUMP WAVELENGTH MATRIX\n",
    "\n",
    "def create_pump_matrix(rows, columns, start_value, step):\n",
    "    matrix = np.zeros((rows, columns))\n",
    "    for i in range(columns):\n",
    "        matrix[:, i] = np.full(rows, start_value + i * step)\n",
    "    return matrix\n",
    "\n",
    "# Number of rows and columns, start and end values for the pump wavelengths, and spacing between each column value\n",
    "rows = 1000\n",
    "columns = 1000\n",
    "start_value = 0.7e-6 #1 micron in m\n",
    "end_value = 1.6e-6\n",
    "step = (end_value - start_value) / columns\n",
    "\n",
    "pump_wavelength_matrix = create_pump_matrix(rows, columns, start_value, step)\n",
    "\n",
    "pump_frequency_matrix = lambda_to_ang_freq(pump_wavelength_matrix)\n",
    "\n",
    "# for i in range(pump_frequency_matrix.shape[0]):\n",
    "#     for j in range(pump_frequency_matrix.shape[1]):\n",
    "#         pump_frequency_matrix[i, j] = pump_frequency_matrix[i,j]*RefractiveIndexClass.RefractiveIndex.n_fs(pump_frequency_matrix[i, j],parameter=\"omega\")\n",
    "\n",
    "#print(pump_frequency_matrix)\n",
    "\n",
    "pump_wavelength_matrix"
   ]
  },
  {
   "cell_type": "code",
   "execution_count": 6,
   "metadata": {},
   "outputs": [
    {
     "name": "stdout",
     "output_type": "stream",
     "text": [
      "[[1.0000000e-06 1.0000000e-06 1.0000000e-06 ... 1.0000000e-06\n",
      "  1.0000000e-06 1.0000000e-06]\n",
      " [1.0006006e-06 1.0006006e-06 1.0006006e-06 ... 1.0006006e-06\n",
      "  1.0006006e-06 1.0006006e-06]\n",
      " [1.0012012e-06 1.0012012e-06 1.0012012e-06 ... 1.0012012e-06\n",
      "  1.0012012e-06 1.0012012e-06]\n",
      " ...\n",
      " [1.5987988e-06 1.5987988e-06 1.5987988e-06 ... 1.5987988e-06\n",
      "  1.5987988e-06 1.5987988e-06]\n",
      " [1.5993994e-06 1.5993994e-06 1.5993994e-06 ... 1.5993994e-06\n",
      "  1.5993994e-06 1.5993994e-06]\n",
      " [1.6000000e-06 1.6000000e-06 1.6000000e-06 ... 1.6000000e-06\n",
      "  1.6000000e-06 1.6000000e-06]]\n"
     ]
    }
   ],
   "source": [
    "#SIGNAL WAVELENGTH MATRIX\n",
    "\n",
    "def create_signal_matrix(rows, columns, min_value, max_value):\n",
    "    matrix = np.zeros((rows, columns))\n",
    "    for i in range(columns):\n",
    "        matrix[:, i] = np.linspace(min_value, max_value, rows)\n",
    "    return matrix\n",
    "\n",
    "# Example usage\n",
    "rows = 1000\n",
    "columns = 1000\n",
    "min_value = 1.0e-6\n",
    "max_value = 1.6e-6\n",
    "\n",
    "signal_wavelength_matrix = create_signal_matrix(rows, columns, min_value, max_value)\n",
    "signal_frequency_matrix = lambda_to_ang_freq(signal_wavelength_matrix)\n",
    "\n",
    "# for i in range(signal_frequency_matrix.shape[0]):\n",
    "#     for j in range(signal_frequency_matrix.shape[1]):\n",
    "#         signal_frequency_matrix[i, j] = signal_frequency_matrix[i,j]*RefractiveIndexClass.RefractiveIndex.n_fs(signal_frequency_matrix[i, j],parameter=\"omega\")\n",
    "\n",
    "print(signal_wavelength_matrix)"
   ]
  },
  {
   "cell_type": "code",
   "execution_count": 7,
   "metadata": {},
   "outputs": [
    {
     "data": {
      "text/plain": [
       "array([[3.50063181e+15, 3.49371638e+15, 3.48681868e+15, ...,\n",
       "        4.75221697e+14, 4.73892602e+14, 4.72565003e+14],\n",
       "       [3.50176324e+15, 3.49484780e+15, 3.48795011e+15, ...,\n",
       "        4.76353123e+14, 4.75024028e+14, 4.73696429e+14],\n",
       "       [3.50289331e+15, 3.49597787e+15, 3.48908017e+15, ...,\n",
       "        4.77483192e+14, 4.76154097e+14, 4.74826498e+14],\n",
       "       ...,\n",
       "       [4.20660504e+15, 4.19968960e+15, 4.19279191e+15, ...,\n",
       "        1.18119492e+15, 1.17986583e+15, 1.17853823e+15],\n",
       "       [4.20704777e+15, 4.20013233e+15, 4.19323463e+15, ...,\n",
       "        1.18163765e+15, 1.18030855e+15, 1.17898096e+15],\n",
       "       [4.20749016e+15, 4.20057473e+15, 4.19367703e+15, ...,\n",
       "        1.18208004e+15, 1.18075095e+15, 1.17942335e+15]])"
      ]
     },
     "execution_count": 7,
     "metadata": {},
     "output_type": "execute_result"
    }
   ],
   "source": [
    "# CALCULATION TO GET IDLER WAVELENGTH MATRIX\n",
    "\n",
    "#idler_wavelength_matrix = 2*pump_wavelength_matrix - signal_wavelength_matrix #Using cons of energy equation\n",
    "\n",
    "idler_frequency_matrix = 2*pump_frequency_matrix - signal_frequency_matrix\n",
    "\n",
    "# for i in range(idler_frequency_matrix.shape[0]):\n",
    "#     for j in range(idler_frequency_matrix.shape[1]):\n",
    "#         idler_frequency_matrix[i, j] = idler_frequency_matrix[i,j]*RefractiveIndexClass.RefractiveIndex.n_fs(idler_frequency_matrix[i, j],parameter=\"omega\")\n",
    "\n",
    "idler_frequency_matrix"
   ]
  },
  {
   "cell_type": "markdown",
   "metadata": {},
   "source": [
    "# Turning above code into a function"
   ]
  },
  {
   "cell_type": "code",
   "execution_count": 8,
   "metadata": {},
   "outputs": [],
   "source": [
    "def BuildMatrixFromArray(array, n=-1, repeat_array_as = \"columns\"):\n",
    "    if n == -1: n = len(array)\n",
    "    if repeat_array_as.lower() == \"columns\":\n",
    "        constructed_matrix = np.zeros((len(array), n))\n",
    "        for i in range(n):\n",
    "            constructed_matrix[:, i] = np.transpose(array)\n",
    "        return constructed_matrix\n",
    "    elif repeat_array_as.lower() == \"rows\":\n",
    "        constructed_matrix = np.zeros((n, len(array)))\n",
    "        for i in range(n):\n",
    "            constructed_matrix[i, :] = array\n",
    "        return constructed_matrix\n",
    "    else:\n",
    "        return ValueError(\"Argument given for 'repeat_array_as' is unrecognised. It takes arguments 'rows' or 'columns'\")"
   ]
  },
  {
   "cell_type": "code",
   "execution_count": 9,
   "metadata": {},
   "outputs": [],
   "source": [
    "# Function to convert wavelength to angular frequency\n",
    "def lambda_to_ang_freq(wavelength_matrix):\n",
    "    #return (2*np.pi*3e8*RefractiveIndexClass.RefractiveIndex.n_fs(wavelength_matrix*1.0e-9,parameter=\"wavelength\")) / wavelength_matrix\n",
    "    #return (2*np.pi*3e8) / wavelength_matrix\n",
    "    return (2*np.pi*3e8) / wavelength_matrix"
   ]
  },
  {
   "cell_type": "code",
   "execution_count": 10,
   "metadata": {},
   "outputs": [],
   "source": [
    "gamma = 2e-4 #Unit is m^-1 W^-1\n",
    "P = 100 # W"
   ]
  },
  {
   "cell_type": "code",
   "execution_count": 11,
   "metadata": {},
   "outputs": [
    {
     "name": "stderr",
     "output_type": "stream",
     "text": [
      "<ipython-input-11-eae20b718204>:18: RuntimeWarning: divide by zero encountered in true_divide\n",
      "  idler_matrix_wavelengths = 1 / (2/(pump_matrix_wavelengths) - 1/(signal_matrix_wavelengths))\n",
      "../Modules/Refractive_Indices/RefractiveIndexClass.py:58: RuntimeWarning: invalid value encountered in true_divide\n",
      "  return np.sqrt(1 + (0.6961663 * wavelength**2) / (wavelength**2  - 0.0684043**2) + (0.4079426 * wavelength**2) / (wavelength**2 - 0.1162414**2) + (0.8974794 * wavelength**2) / (wavelength**2 - 9.896161**2))\n",
      "../Modules/Refractive_Indices/RefractiveIndexClass.py:58: RuntimeWarning: invalid value encountered in sqrt\n",
      "  return np.sqrt(1 + (0.6961663 * wavelength**2) / (wavelength**2  - 0.0684043**2) + (0.4079426 * wavelength**2) / (wavelength**2 - 0.1162414**2) + (0.8974794 * wavelength**2) / (wavelength**2 - 9.896161**2))\n",
      "<ipython-input-11-eae20b718204>:43: UserWarning: The following kwargs were not used by contour: 'color'\n",
      "  phase_matching_contour = plt.contour(pump_wavelengths, signal_wavelengths, delta_beta, levels=[0], color='k')\n"
     ]
    },
    {
     "data": {
      "image/png": "[encoded data removed]",
      "text/plain": [
       "<Figure size 432x288 with 1 Axes>"
      ]
     },
     "metadata": {
      "needs_background": "light"
     },
     "output_type": "display_data"
    },
    {
     "data": {
      "image/png": "[encoded data removed]",
      "text/plain": [
       "<Figure size 432x288 with 2 Axes>"
      ]
     },
     "metadata": {
      "needs_background": "light"
     },
     "output_type": "display_data"
    },
    {
     "data": {
      "text/plain": [
       "array([[ -4451.50536797,  -4439.7673529 ,  -4427.8852916 , ...,\n",
       "        -79066.18672137, -78403.220932  ,             nan],\n",
       "       [ -4418.81395736,  -4407.38565455,  -4395.81521538, ...,\n",
       "        -82194.01527178, -81529.97948271, -80866.70043505],\n",
       "       [ -4385.9770584 ,  -4374.85263982,  -4363.58796268, ...,\n",
       "        -85321.82698385, -84655.40778574, -83990.02291223],\n",
       "       ...,\n",
       "       [ -5368.41937794,  -5334.91750976,  -5301.52522576, ...,\n",
       "          2034.65042846,   2031.52576914,   2028.39676708],\n",
       "       [ -5370.86696154,  -5337.33016952,  -5303.90302951, ...,\n",
       "          2045.28787766,   2042.1609828 ,   2039.02972   ],\n",
       "       [ -5373.29212848,  -5339.72044144,  -5306.25847418, ...,\n",
       "          2055.94641509,   2052.81730778,   2049.68380737]])"
      ]
     },
     "execution_count": 11,
     "metadata": {},
     "output_type": "execute_result"
    }
   ],
   "source": [
    "import matplotlib.pyplot as plt\n",
    "\n",
    "# Input wavelengths in SI units [m]\n",
    "def phase_matching(pump_wavelengths, signal_wavelengths, refractive_index, gamma = 2e-4, P = 100, show_plots = True):\n",
    "    # *** Construct the pump and signal matrices *** #\n",
    "    pump_matrix_wavelengths = BuildMatrixFromArray(pump_wavelengths, len(signal_wavelengths), repeat_array_as = \"rows\")\n",
    "    signal_matrix_wavelengths = BuildMatrixFromArray(signal_wavelengths, len(pump_wavelengths), repeat_array_as = \"columns\")\n",
    "\n",
    "    # *** Convert to frequency *** #\n",
    "    pump_matrix_omegas = lambda_to_ang_freq(pump_matrix_wavelengths)\n",
    "    signal_matrix_omegas = lambda_to_ang_freq(signal_matrix_wavelengths)\n",
    "    \n",
    "    # *** Conservation of energy to create idler matrix *** #\n",
    "    idler_matrix_omegas = 2 * pump_matrix_omegas - signal_matrix_omegas\n",
    "    \n",
    "    \n",
    "    # *** Slightly different conversion needed for wavelength version *** #\n",
    "    idler_matrix_wavelengths = 1 / (2/(pump_matrix_wavelengths) - 1/(signal_matrix_wavelengths))\n",
    "    \n",
    "    #idler_matrix_wavelengths = 2 * pump_matrix_wavelengths - signal_matrix_wavelengths\n",
    "\n",
    "    \n",
    "    # *** Find the betas *** #\n",
    "    pump_betas = refractive_index(pump_matrix_wavelengths*1e9) * pump_matrix_omegas / 3e8\n",
    "    # print(\"pump betas\")\n",
    "    # print(pump_betas)\n",
    "    signal_betas = refractive_index(signal_matrix_wavelengths*1e9) * signal_matrix_omegas / 3e8\n",
    "    # print(\"signal betas\")\n",
    "    # print(signal_betas)\n",
    "    idler_betas = refractive_index(idler_matrix_wavelengths*1e9) * idler_matrix_omegas / 3e8\n",
    "    # print(\"wavelength idler matrix\")\n",
    "    # print(idler_betas)\n",
    "\n",
    "    # *** Phase matching: Momentum conservation *** #\n",
    "    delta_beta = 2 * pump_betas - signal_betas - idler_betas - 2 * gamma * P\n",
    "    # plt.imshow(delta_beta, cmap='jet', interpolation='nearest')\n",
    "    # plt.colorbar()  # Add colorbar to show the scale\n",
    "    # plt.show()\n",
    "  \n",
    "    \n",
    "    # plt.plot(contour_data)\n",
    "    if show_plots == True:\n",
    "        phase_matching_contour = plt.contour(pump_wavelengths, signal_wavelengths, delta_beta, levels=[0], color='k')\n",
    "        contour_data = phase_matching_contour.collections[0].get_paths()[0].vertices\n",
    "        plt.xlabel('Pump [m]')\n",
    "        plt.ylabel('Signal, Idler [m]')\n",
    "        plt.title('Phase Matching Plot')  \n",
    "        plt.show() \n",
    "        plt.imshow(delta_beta, cmap='jet', interpolation='nearest')\n",
    "        plt.colorbar()  # Add colorbar to show the scale\n",
    "        plt.show()\n",
    "    return delta_beta\n",
    "    #print(contour_data)\n",
    "\n",
    "pump_wavelengths = np.linspace(1.1e-6, 1.6e-6, 1000)\n",
    "signal_wavelengths = np.linspace(0.8e-6, 2.0e-6, 1000)\n",
    "#refractive_index = RefractiveIndexClass.RefractiveIndex.n_fs\n",
    "refractive_index = RefractiveIndex.n_fs\n",
    "phase_matching(pump_wavelengths=pump_wavelengths, signal_wavelengths=signal_wavelengths, refractive_index=refractive_index) "
   ]
  },
  {
   "cell_type": "markdown",
   "metadata": {},
   "source": [
    "# <u> Phase matching diagram for HCF </u>"
   ]
  },
  {
   "cell_type": "markdown",
   "metadata": {},
   "source": [
    "Should basically be identical code except plugging in the refractive index that we modelled for leaky mode HCFs (add this as a function to refractive index class)"
   ]
  },
  {
   "cell_type": "code",
   "execution_count": 12,
   "metadata": {},
   "outputs": [
    {
     "name": "stderr",
     "output_type": "stream",
     "text": [
      "<ipython-input-11-eae20b718204>:43: UserWarning: The following kwargs were not used by contour: 'color'\n",
      "  phase_matching_contour = plt.contour(pump_wavelengths, signal_wavelengths, delta_beta, levels=[0], color='k')\n"
     ]
    },
    {
     "data": {
      "image/png": "[encoded data removed]",
      "text/plain": [
       "<Figure size 432x288 with 1 Axes>"
      ]
     },
     "metadata": {
      "needs_background": "light"
     },
     "output_type": "display_data"
    },
    {
     "data": {
      "image/png": "[encoded data removed]",
      "text/plain": [
       "<Figure size 432x288 with 2 Axes>"
      ]
     },
     "metadata": {
      "needs_background": "light"
     },
     "output_type": "display_data"
    },
    {
     "data": {
      "text/plain": [
       "array([[ 158.97853948,  158.01676728,  157.08732544, ..., 2784.04509031,\n",
       "        2794.58022566, 2805.22170537],\n",
       "       [ 160.84631102,  159.86484091,  158.91494872, ..., 2719.44313857,\n",
       "        2729.53389767, 2739.72667548],\n",
       "       [ 162.75187564,  161.75170286,  160.78241724, ..., 2657.29490809,\n",
       "        2666.96559238, 2676.73430835],\n",
       "       ...,\n",
       "       [3581.0154051 , 3579.0258175 , 3577.05590902, ..., 2803.36891378,\n",
       "        2800.11030245, 2796.87722467],\n",
       "       [3585.37912646, 3583.38935802, 3581.41926552, ..., 2807.54057905,\n",
       "        2804.28162259, 2801.04819887],\n",
       "       [3589.7450003 , 3587.75505156, 3585.78477559, ..., 2811.7147749 ,\n",
       "        2808.45547417, 2805.22170537]])"
      ]
     },
     "execution_count": 12,
     "metadata": {},
     "output_type": "execute_result"
    }
   ],
   "source": [
    "pump_wavelengths = np.linspace(0.8e-6, 1.6e-6, 1000)\n",
    "signal_wavelengths = np.linspace(1.0e-6, 4.0e-6, 1000)\n",
    "\n",
    "# * * * HCF Parameters * * * #\n",
    "w = 0.7e-6\n",
    "R = 24e-6\n",
    "gas_pressure = 210000 # mbar\n",
    "gas_temperature = 300 # Kelvin\n",
    "#refractive_index = RefractiveIndexClass.RefractiveIndex.n_fs\n",
    "refractive_index = RefractiveIndex.HCF\n",
    "phase_matching(pump_wavelengths=pump_wavelengths, signal_wavelengths=signal_wavelengths, refractive_index=refractive_index) "
   ]
  },
  {
   "cell_type": "markdown",
   "metadata": {},
   "source": [
    "## <u> Phase Matching with Noble Gas </u>"
   ]
  },
  {
   "cell_type": "code",
   "execution_count": 13,
   "metadata": {},
   "outputs": [],
   "source": [
    "m = [1]\n",
    "def find_loss_wavelengths(w, n_gas, n_wall, wavelengths, ms):\n",
    "    lambda_ms = []\n",
    "    for m in ms:\n",
    "        # print(n_wall(wavelengths*1e9))\n",
    "        m_val = (2 * n_gas(wavelengths*1e9) * w / wavelengths) * ( (n_wall(wavelengths * 1e9) / n_gas(wavelengths * 1e9))**2 - 1 )**(1/2)\n",
    "        # print(\"M_val\")\n",
    "        # print(m_val)\n",
    "        differences = np.abs(m - m_val)\n",
    "        # print(differences)\n",
    "        idx = np.where(min(differences) == differences)[0]\n",
    "        lambda_ms.append((wavelengths[idx], m))\n",
    "    return lambda_ms"
   ]
  },
  {
   "cell_type": "code",
   "execution_count": 14,
   "metadata": {},
   "outputs": [],
   "source": [
    "# Function for custom ticks in wavelength on a frequency plot\n",
    "def WavelengthTicksOnAngularFrequencyPlot(min_wavelength, max_wavelength, No_major_ticks, axis = 'x'):\n",
    "    from matplotlib.ticker import FixedLocator, FuncFormatter\n",
    "    major_wavelengths = np.linspace(min_wavelength, max_wavelength, No_major_ticks)\n",
    "    # Calculate the corresponding frequencies for the major ticks\n",
    "    major_frequencies = 2 * np.pi * 3e8 / major_wavelengths\n",
    "    minor_ticks = np.linspace(min_wavelength, max_wavelength, 4*No_major_ticks + 2)\n",
    "    minor_ticks = lambda_to_ang_freq(minor_ticks)\n",
    "    # Apply the custom transformation to the x-axis ticks\n",
    "    if axis == 'x':\n",
    "        plt.gca().xaxis.set_major_formatter(FuncFormatter(lambda x, _: f'{lambda_to_ang_freq(x)*1e6:.2f}'))\n",
    "        plt.gca().xaxis.set_major_locator(FixedLocator(major_frequencies))\n",
    "        plt.gca().set_xticks(minor_ticks, minor=True)\n",
    "    elif axis == 'y':\n",
    "        plt.gca().yaxis.set_major_formatter(FuncFormatter(lambda x, _: f'{lambda_to_ang_freq(x)*1e6:.2f}'))\n",
    "        plt.gca().yaxis.set_major_locator(FixedLocator(major_frequencies))\n",
    "        plt.gca().set_yticks(minor_ticks, minor=True)\n",
    "    \n",
    "    # print(\"Minor ticks\")\n",
    "    # print(minor_ticks)\n",
    "    # plt.gca().xaxis.set_minor_formatter(FuncFormatter(lambda x, _: f'{lambda_to_ang_freq(x)*1e6:.2f}'))\n",
    "    "
   ]
  },
  {
   "cell_type": "code",
   "execution_count": 15,
   "metadata": {},
   "outputs": [],
   "source": [
    "# Parameters:\n",
    "Temperature = 293 # K\n",
    "Pressure = 5000 # mBar\n",
    "w = 0.7e-6 # m\n",
    "core_radius = 22e-6 # m\n",
    "gas = \"xenon\"\n",
    "gamma = 0.0\n",
    "P_0 = 100\n",
    "loss_ms = [1]"
   ]
  },
  {
   "cell_type": "code",
   "execution_count": 25,
   "metadata": {},
   "outputs": [
    {
     "name": "stdout",
     "output_type": "stream",
     "text": [
      "1.0024126652957621\n",
      "1.0022820190203985\n",
      "Resonant wavelength\n",
      "[1.45645646e-06]\n"
     ]
    },
    {
     "name": "stderr",
     "output_type": "stream",
     "text": [
      "<ipython-input-25-99502a01d8d3>:29: UserWarning: The following kwargs were not used by contour: 'color'\n",
      "  phase_matching_contour = plt.contour(lambda_to_ang_freq(pump_wavelengths), lambda_to_ang_freq(signal_wavelengths), delta_beta, levels=[0], color='k')\n"
     ]
    },
    {
     "data": {
      "image/png": "[encoded data removed]",
      "text/plain": [
       "<Figure size 432x288 with 1 Axes>"
      ]
     },
     "metadata": {
      "needs_background": "light"
     },
     "output_type": "display_data"
    }
   ],
   "source": [
    "\n",
    "\n",
    "gas_index = lambda x: RefractiveIndex.Gas(wavelengths=x, pressure=Pressure, temperature=Temperature, gas_name=gas)\n",
    "print(gas_index(1000))\n",
    "refractive_index = lambda x: RefractiveIndex.HCF(R=core_radius, w=w, wavelengths=x, n_gas=gas_index, normalised_gap=0.27)\n",
    "print(refractive_index(1000))\n",
    "resonsance_wavelengths = find_loss_wavelengths(w = w, n_gas=gas_index, n_wall=RefractiveIndex.n_fs, wavelengths=signal_wavelengths,ms = loss_ms)\n",
    "# print(\"test\")\n",
    "# print(resonsance_wavelengths)\n",
    "\n",
    "delta_beta = phase_matching(pump_wavelengths=pump_wavelengths, signal_wavelengths=signal_wavelengths, refractive_index=refractive_index, show_plots=False, P=P_0, gamma=gamma) \n",
    "axis_parameter = \"ang_freq\"\n",
    "if axis_parameter.lower() == \"wavelength\":\n",
    "    phase_matching_contour = plt.contour(pump_wavelengths, signal_wavelengths, delta_beta, levels=[0], color='k')\n",
    "    contour_data = phase_matching_contour.collections[0].get_paths()[0].vertices\n",
    "    for resonsance_wavelength in resonsance_wavelengths:\n",
    "        print(\"Resonant wavelength\")\n",
    "        print(resonsance_wavelength[0])\n",
    "        resonances_linewidth = 2.5\n",
    "        const_idlers = 1 / ( (2 / pump_wavelengths) - (1 / resonsance_wavelength[0]))\n",
    "        plt.plot(pump_wavelengths, const_idlers, color = 'r', linestyle = '--', linewidth = resonances_linewidth)\n",
    "        plt.axvline(resonsance_wavelength[0], color = 'r', linestyle = '--', linewidth = resonances_linewidth)\n",
    "        plt.axhline(resonsance_wavelength[0], color = 'r', linestyle = '--', linewidth = resonances_linewidth)\n",
    "    plt.xlabel('Pump [m]')\n",
    "    plt.ylabel('Signal, Idler [m]')\n",
    "    plt.title('Phase Matching Plot')  \n",
    "    plt.xlim([min(pump_wavelengths), max(pump_wavelengths)])\n",
    "    plt.ylim([min(signal_wavelengths), max(signal_wavelengths)])\n",
    "    plt.show() \n",
    "elif axis_parameter.lower() == \"ang_freq\":\n",
    "    phase_matching_contour = plt.contour(lambda_to_ang_freq(pump_wavelengths), lambda_to_ang_freq(signal_wavelengths), delta_beta, levels=[0], color='k')\n",
    "    contour_data = phase_matching_contour.collections[0].get_paths()[0].vertices\n",
    "    for resonsance_wavelength in resonsance_wavelengths:\n",
    "        print(\"Resonant wavelength\")\n",
    "        print(resonsance_wavelength[0])\n",
    "        resonances_linewidth = 2.5\n",
    "        const_idlers = 1 / ( (2 / pump_wavelengths) - (1 / resonsance_wavelength[0]))\n",
    "        plt.plot(lambda_to_ang_freq(pump_wavelengths), lambda_to_ang_freq(const_idlers), color = 'r', linestyle = '--', linewidth = resonances_linewidth)\n",
    "        plt.axvline(lambda_to_ang_freq(resonsance_wavelength[0]), color = 'r', linestyle = '--', linewidth = resonances_linewidth)\n",
    "        plt.axhline(lambda_to_ang_freq(resonsance_wavelength[0]), color = 'r', linestyle = '--', linewidth = resonances_linewidth)\n",
    "    plt.xlabel(r'Pump [$\\mu$m]')\n",
    "    plt.ylabel(r'Signal, Idler [$\\mu$m]')\n",
    "    plt.title('Phase Matching Plot')  \n",
    "    plt.xlim([min(lambda_to_ang_freq(pump_wavelengths)), max(lambda_to_ang_freq(pump_wavelengths))])\n",
    "    plt.ylim([min(lambda_to_ang_freq(signal_wavelengths)), max(lambda_to_ang_freq(signal_wavelengths))])\n",
    "\n",
    "WavelengthTicksOnAngularFrequencyPlot(min(pump_wavelengths), max(pump_wavelengths), 6, axis='x')    \n",
    "WavelengthTicksOnAngularFrequencyPlot(min(signal_wavelengths), max(signal_wavelengths), 7, axis='y')\n",
    "# interp_val = phase_matching_contour.collections[0].get_paths()[0].interpolated(delta_beta, lambda_to_ang_freq(pump_wavelengths), lambda_to_ang_freq(signal_wavelengths), lambda_to_ang_freq(1.12e-6), lambda_to_ang_freq(2.5e-6))  \n",
    "# print(interp_val)  \n",
    "# interp_val = np.interp([lambda_to_ang_freq(1.12e-6)], lambda_to_ang_freq(pump_wavelengths), delta_beta[np.where(np.isclose(lambda_to_ang_freq(signal_wavelengths), 2.50e-6))])[0]\n",
    "# print(interp_val)\n",
    "plt.show() "
   ]
  },
  {
   "cell_type": "markdown",
   "metadata": {},
   "source": [
    "### Function to calculate $\\gamma$ (the normalised gap between capillaries)"
   ]
  },
  {
   "cell_type": "code",
   "execution_count": 2,
   "metadata": {},
   "outputs": [],
   "source": [
    "def calculate_gamma(M, w, r_core, r_cap):\n",
    "    ########## Insert everything in SI ##########\n",
    "    # Function returns gamma which is normalised gap between capillaries in HCF\n",
    "    # M = number of capillaries\n",
    "    # w = capillary wall thickness\n",
    "    # r_core = core radius\n",
    "    # r_cap = capillary radius\n",
    "    g = 2 * ( ( r_cap + w )( np.sin( np.pi / M) - 1 ) + r_core * np.sin( np.pi / M ) )\n",
    "    return g / r_core"
   ]
  },
  {
   "cell_type": "code",
   "execution_count": null,
   "metadata": {},
   "outputs": [],
   "source": []
  },
  {
   "cell_type": "markdown",
   "metadata": {},
   "source": [
    "## Interpolating to wavelength rather than frequency in phase matching plot"
   ]
  },
  {
   "cell_type": "code",
   "execution_count": 17,
   "metadata": {},
   "outputs": [],
   "source": [
    "delta_beta\n",
    "\n",
    "interpolation = lambda x: 2 * np.pi * 3e17 / x\n",
    "\n",
    "def linear_interpolation_omega_wavelength(x, y):\n",
    "    from scipy import interpolate\n",
    "    x = 2 * np.pi * c / x                                           # Frequency in rad/s\n",
    "    x_grid = np.linspace(min(x), max(x), len(y))                    # Adjust the number of points as needed        \n",
    "    linear_interp = interpolate.interp1d(x, y, kind='linear')       # Perform linear interpolation\n",
    "    y_interp = linear_interp(x_grid)\n",
    "    return x_grid, y_interp"
   ]
  },
  {
   "cell_type": "code",
   "execution_count": null,
   "metadata": {},
   "outputs": [],
   "source": []
  }
 ],
 "metadata": {
  "kernelspec": {
   "display_name": "base",
   "language": "python",
   "name": "python3"
  },
  "language_info": {
   "codemirror_mode": {
    "name": "ipython",
    "version": 3
   },
   "file_extension": ".py",
   "mimetype": "text/x-python",
   "name": "python",
   "nbconvert_exporter": "python",
   "pygments_lexer": "ipython3",
   "version": "3.11.3"
  }
 },
 "nbformat": 4,
 "nbformat_minor": 2
}
