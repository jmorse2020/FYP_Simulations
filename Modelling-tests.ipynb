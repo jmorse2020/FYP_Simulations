{
 "cells": [
  {
   "cell_type": "markdown",
   "metadata": {},
   "source": [
    "## Testing HCF Model"
   ]
  },
  {
   "cell_type": "markdown",
   "metadata": {},
   "source": [
    "#### Obtain refractive index"
   ]
  },
  {
   "cell_type": "code",
   "execution_count": null,
   "metadata": {},
   "outputs": [],
   "source": [
    "import os\n",
    "import sys\n",
    "\n",
    "current_directory = os.getcwd()\n",
    "parent_directory = os.path.dirname(current_directory)\n",
    "add_to_path = os.path.join(parent_directory, \"Modules/Refractive_Indices\")\n",
    "os.listdir(parent_directory)\n",
    "print(add_to_path)\n",
    "sys.path.append(add_to_path)\n",
    "import RefractiveIndexClass\n",
    "import numpy as np\n",
    "import matplotlib.pyplot as plt\n",
    "\n",
    "wavelengths = np.linspace(400, 1600, 1000)\n",
    "index = RefractiveIndexClass.RefractiveIndex.HCF(wavelengths=wavelengths, part=\"R\")\n",
    "plt.plot(wavelengths, index)"
   ]
  },
  {
   "cell_type": "markdown",
   "metadata": {},
   "source": [
    "#### Obtain the GVD\n",
    "\n",
    "Recall the GVD is: $$\\frac{d^2 \\beta}{d \\omega^2}$$\n",
    "We will give arguments wavelengths in nm and refractive index. We will have to perform the CDA to obtain the second derivative."
   ]
  },
  {
   "cell_type": "code",
   "execution_count": null,
   "metadata": {},
   "outputs": [],
   "source": [
    "def CDA2(func_vals, step_size):\n",
    "    '''\n",
    "    Performs the second order derivative using centered difference approximation. FDA and BDA (Ord(h^2)) obtained at https://www.dam.brown.edu/people/alcyew/handouts/numdiff.pdf\n",
    "    \n",
    "    ! Step size must be the same as the grid step. !\n",
    "    '''\n",
    "    second_derivative = []\n",
    "    last_point = len(func_vals) - 1\n",
    "    second_derivative.append((1 / (step_size**2)) * (2 * func_vals[0] - 5 * func_vals[1] + 4 * func_vals[2] - func_vals[3]))\n",
    "    # second_derivative.append((1 / (step_size**2)) * (func_vals[2] - 2 * func_vals[1] + func_vals[0])) # If the FDA ever fails use these.\n",
    "    for i in range(1, last_point):\n",
    "        second_derivative.append((1 / (step_size**2)) * (func_vals[i + 1] + func_vals[i - 1] - 2 * func_vals[i]))\n",
    "    # second_derivative.append((1 / (step_size**2)) * (func_vals[last_point] - 2 * func_vals[last_point - 1] + func_vals[last_point - 2])) # If the BDA ever fails use these.\n",
    "    second_derivative.append((1 / (step_size**2)) * (2 * func_vals[last_point] - 5 * func_vals[last_point - 1] + 4 * func_vals[last_point - 2] - func_vals[last_point - 3]))\n",
    "    return second_derivative\n",
    "\n",
    "def CDA1(func_vals, step_size):\n",
    "    '''\n",
    "    Performs the second order derivative using centered difference approximation. FDA and BDA (Ord(h^2)) obtained at https://www.dam.brown.edu/people/alcyew/handouts/numdiff.pdf\n",
    "\n",
    "    ! Step size must be the same as the grid step. !\n",
    "    '''\n",
    "    first_derivative = []\n",
    "    last_point = len(func_vals) - 1\n",
    "    first_derivative.append((1 / (2 * step_size)) * (-3 * func_vals[0] + 4 * func_vals[1] - func_vals[2] - func_vals[3]))\n",
    "    for i in range(1, last_point):\n",
    "        first_derivative.append((1 / (2 * step_size)) * (func_vals[i + 1] - func_vals[i - 1]))\n",
    "    # first_derivative.append((1 / (step_size)) * (func_vals[last_point] - func_vals[last_point - 1]))\n",
    "    first_derivative.append((1 / (2 * step_size)) * (3 * func_vals[last_point] - 4 * func_vals[last_point - 1] + func_vals[last_point - 2]))\n",
    "    return first_derivative"
   ]
  },
  {
   "cell_type": "code",
   "execution_count": null,
   "metadata": {},
   "outputs": [],
   "source": [
    "x = np.linspace(1, 10, 1000)\n",
    "def y(x):\n",
    "    return 2*(x-1)**5\n",
    "y(x)[1000 - 1]\n",
    "\n",
    "\n",
    "ypp = CDA1(y(x), step_size=x[1] - x[0])\n",
    "print(ypp)\n",
    "import matplotlib.pyplot as plt \n",
    "len(ypp)\n",
    "plt.plot(x, ypp)\n",
    "plt.plot(x, 2*5*(x-1)**4, '--')"
   ]
  },
  {
   "cell_type": "code",
   "execution_count": null,
   "metadata": {},
   "outputs": [],
   "source": [
    "def beta_lambda(refractive_index, wavelengths):\n",
    "    beta = []\n",
    "    for i in range(len(refractive_index)):\n",
    "        beta.append(2 * np.pi * refractive_index[i] / wavelengths[i])\n",
    "    return beta\n",
    "\n",
    "def GVD_lambda(beta, wavelengths, output_ps_nm_km = True):\n",
    "    '''\n",
    "    GVD which is expressed as beta_2 * (-2 pi c / lambda**2). Sometimes denoted D.\n",
    "\n",
    "    Parameters\n",
    "    -------\n",
    "    beta ([float]]): Array of beta values in nm^-1\n",
    "    wavelengths ([float]): Array of wavelengths corresponding to the beta array in nm\n",
    "    output_ps_nm_km (bool): Output can be given in expected units from input (s / nm*nm) [False] or in conventional (ps / nm*km) [True - Default].\n",
    "\n",
    "    Returns\n",
    "    -------\n",
    "    GVD as an array.\n",
    "    '''\n",
    "    c0 = 3e17                                                           # Speed of light in vacuum in nm / s\n",
    "    first_derivative = CDA1(beta, wavelengths[1] - wavelengths[0])\n",
    "    second_derivative = CDA2(beta, wavelengths[1] - wavelengths[0])\n",
    "    GVD = []\n",
    "    for i in range(len(beta)):\n",
    "        GVD.append(-1 * ((2 * np.pi * c0) / (wavelengths[i]**2)) * ( ( (wavelengths[i]**3) / (2 * np.pi**2 * c0**2) ) * first_derivative[i] + ( (wavelengths[i]**4) / ((2 * np.pi * c0)**2) ) * second_derivative[i] ) )\n",
    "    if output_ps_nm_km:\n",
    "        GVD = np.array(GVD) * 1e24                                      # Converts from s / nm*nm to ps / nm*km (conventional).\n",
    "    return GVD\n",
    "\n",
    "def Vg_lambda(beta, wavelengths):\n",
    "    first_derivative = CDA1(beta, wavelengths[1] - wavelengths[0])\n",
    "    Vg = []\n",
    "    for i in range(len(beta)):\n",
    "        Vg.append( - (2 * np.pi * 3e17 / (wavelengths[i]**2)) * (1 / (first_derivative[i])))\n",
    "    return Vg\n",
    "n_fs = RefractiveIndexClass.RefractiveIndex.n_fs\n",
    "wavelengths = np.linspace(1000, 1600, 1000)\n",
    "beta = beta_lambda(n_fs(wavelengths), wavelengths)\n",
    "GVD = GVD_lambda(beta, wavelengths)\n",
    "len(GVD)\n",
    "plt.plot(wavelengths[1: len(wavelengths) - 1], GVD[1: len(wavelengths) - 1])\n"
   ]
  },
  {
   "cell_type": "code",
   "execution_count": null,
   "metadata": {},
   "outputs": [],
   "source": [
    "wavelengths = np.linspace(400, 1600, 10000)\n",
    "index = RefractiveIndexClass.RefractiveIndex.HCF(wavelengths=wavelengths, R=80e-6,part=\"R\")\n",
    "plt.plot(wavelengths, (index - 1))\n",
    "plt.ylim([-5e-4, 0])\n",
    "plt.show()\n",
    "wavelengths = wavelengths\n",
    "# plt.plot(wavelengths, index)\n",
    "beta_HCF = beta_lambda(index, wavelengths)\n",
    "GVD_HCF = GVD_lambda(beta_HCF, wavelengths)\n",
    "plt.plot(wavelengths, np.array(GVD_HCF))\n",
    "plt.ylim([-10, 10])\n",
    "plt.xlim(400, 1400)\n",
    "plt.show()\n",
    "plt.plot(wavelengths, np.array(Vg_lambda(beta_HCF, wavelengths)) / 3e17)\n",
    "# plt.xlim(0.4e-6, 1.4e-6)\n",
    "plt.ylim([0.9970, 1])"
   ]
  },
  {
   "cell_type": "markdown",
   "metadata": {},
   "source": [
    "## <u> Gas modelling </u>"
   ]
  },
  {
   "cell_type": "code",
   "execution_count": null,
   "metadata": {},
   "outputs": [],
   "source": [
    "gas = lambda x: RefractiveIndexClass.RefractiveIndex.Gas(wavelengths = x, pressure = 0.01, temperature = 293, gas_name=\"Argon\")\n",
    "plt.plot(wavelengths, gas(wavelengths))\n",
    "plt.title(\"Gas index\")\n",
    "plt.xlabel(\"wavelengths\")\n",
    "plt.show()\n",
    "# Gas must have lower index than wall.\n",
    "index = RefractiveIndexClass.RefractiveIndex.HCF(wavelengths=wavelengths, R=80e-6,part=\"R\", n_gas= gas)\n",
    "print(index)\n",
    "plt.plot(wavelengths, (index - 1))\n",
    "plt.ylim([90.55e-3, 90.75e-3])\n",
    "# plt.show()"
   ]
  },
  {
   "cell_type": "code",
   "execution_count": null,
   "metadata": {},
   "outputs": [],
   "source": [
    "x = np.linspace(0, 2 * np.pi, 1000)\n",
    "y = CDA2(np.sin(x), x[1] - x[0])\n",
    "plt.plot(x, np.cos(x))\n",
    "plt.plot(x, y)\n",
    "plt.plot(x, -np.sin(x), '--')"
   ]
  },
  {
   "cell_type": "code",
   "execution_count": null,
   "metadata": {},
   "outputs": [],
   "source": []
  }
 ],
 "metadata": {
  "kernelspec": {
   "display_name": "base",
   "language": "python",
   "name": "python3"
  },
  "language_info": {
   "codemirror_mode": {
    "name": "ipython",
    "version": 3
   },
   "file_extension": ".py",
   "mimetype": "text/x-python",
   "name": "python",
   "nbconvert_exporter": "python",
   "pygments_lexer": "ipython3",
   "version": "3.8.8"
  }
 },
 "nbformat": 4,
 "nbformat_minor": 2
}
